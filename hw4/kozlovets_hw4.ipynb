{
 "cells": [
  {
   "cell_type": "markdown",
   "metadata": {},
   "source": [
    "### Алгоритмы интеллектуальной обработки больших объемов данных\n",
    "## Домашнее задание №4 - Градиентный бустинг\n"
   ]
  },
  {
   "cell_type": "markdown",
   "metadata": {},
   "source": [
    "**Общая информация**\n",
    "\n",
    "**Срок сдачи:** 13 июня 2022, 08:30   \n",
    "**Штраф за опоздание:** -2 балла после 08:30 13 июня, -4 балла после 08:30 20 июня, -6 баллов после 08:30 24 мая, -8 баллов после 08:30 31 мая.\n",
    "\n",
    "При отправлении ДЗ указывайте фамилию в названии файла Присылать ДЗ необходимо в виде ссылки на свой github репозиторий на почту ml1.sphere@mail.ru с указанием темы в следующем формате:\n",
    "[ML0422, Задание 4] Фамилия Имя. \n",
    "\n",
    "\n",
    "Используйте данный Ipython Notebook при оформлении домашнего задания."
   ]
  },
  {
   "cell_type": "markdown",
   "metadata": {},
   "source": [
    "##  Считаем производные для функций потерь (1 балл)"
   ]
  },
  {
   "cell_type": "markdown",
   "metadata": {},
   "source": [
    "Мы будем реализовать градиентный бустинг для 3 функций потерь:\n",
    "\n",
    "1) MSE  $L(a(x_i), y_i) = (y_i - a(x_i)) ^ 2$\n",
    "\n",
    "2) Экспоненциальная  $L(a(x_i), y_i) = exp( -a(x_i) y_i), y_i \\in \\{-1, 1\\}$\n",
    "\n",
    "3) Логистическая  $L(a(x_i), y_i) = \\log (1 + exp( -a(x_i) y_i)), y_i \\in \\{-1, 1\\}$\n",
    "\n",
    "где $a(x_i)$ предсказание бустинга на итом объекте. \n",
    "\n",
    "Для каждой функции потерь напишите таргет, на который будет настраиваться каждое дерево в бустинге. "
   ]
  },
  {
   "cell_type": "markdown",
   "metadata": {},
   "source": [
    "Ваше решение тут"
   ]
  },
  {
   "cell_type": "markdown",
   "metadata": {},
   "source": [
    "1) MSE: $$-\\frac{\\partial L}{\\partial a} = 2(y_i - a(x_i))$$\n",
    "2) Экспоненциальная: $$-\\frac{\\partial L}{\\partial a} = y_i e^{-a(x_i)y_i}$$\n",
    "3) Логистическая: $$-\\frac{\\partial L}{\\partial a} = \\frac{y_i e^{-a(x_i)y_i}}{1 + e^{-a(x_i)y_i}} = \\frac{y_i}{1 + e^{a(x_i)y_i}}$$"
   ]
  },
  {
   "cell_type": "markdown",
   "metadata": {},
   "source": [
    "##  Реализуем градиентный бустинг (3 балла)"
   ]
  },
  {
   "cell_type": "markdown",
   "metadata": {},
   "source": [
    "Реализуйте класс градиентного бустинга для классификации. Ваша реализация бустинга должна работать по точности не более чем на 5 процентов хуже чем GradientBoostingClassifier из sklearn. \n"
   ]
  },
  {
   "cell_type": "markdown",
   "metadata": {},
   "source": [
    "Детали реализации:\n",
    "\n",
    "-- должно поддерживаться 3 функции потерь\n",
    "\n",
    "-- сами базовые алгоритмы(деревья, линейные модели и тп) реализовать не надо, просто возьмите готовые из sklearn\n",
    "\n",
    "-- в качестве функции потерь для построения одного дерева используйте MSE\n",
    "\n",
    "-- шаг в бустинге можно не подбирать, можно брать константный\n",
    "\n",
    "-- можно брать разные модели в качестве инициализации бустинга\n",
    "\n",
    "-- должны поддерживаться следующие параметры:\n",
    "\n",
    "а) число итераций\n",
    "б) размер шага\n",
    "в) процент случайных фичей при построении одного дерева\n",
    "д) процент случайных объектов при построении одного дерева\n",
    "е) параметры базового алгоритма (передавайте через **kwargs)"
   ]
  },
  {
   "cell_type": "code",
   "execution_count": 313,
   "metadata": {
    "tags": []
   },
   "outputs": [],
   "source": [
    "import numpy as np\n",
    "\n",
    "from sklearn.datasets import load_wine\n",
    "from sklearn.ensemble import GradientBoostingClassifier\n",
    "from sklearn.metrics import accuracy_score\n",
    "from sklearn.model_selection import train_test_split\n",
    "from sklearn.tree import DecisionTreeRegressor\n",
    "from random import sample"
   ]
  },
  {
   "cell_type": "code",
   "execution_count": 314,
   "metadata": {
    "tags": []
   },
   "outputs": [],
   "source": [
    "class MyGradientBoostingClassifier:\n",
    "\n",
    "    def __init__(self, loss, learning_rate, n_estimators, colsample, subsample, *args, **kwargs):\n",
    "        \"\"\"\n",
    "        loss -- один из 3 лоссов:\n",
    "        learning_rate -- шаг бустинга\n",
    "        n_estimators -- число итераций\n",
    "        colsample -- процент рандомных признаков при обучнеии одного алгоритма\n",
    "        colsample -- процент рандомных объектов при обучнеии одного алгоритма\n",
    "        args, kwargs -- параметры  базовых моделей\n",
    "        \"\"\"\n",
    "        self.loss = loss\n",
    "        self.learning_rate = learning_rate\n",
    "        self.n_estimators = n_estimators\n",
    "        self.colsample = colsample\n",
    "        self.subsample = subsample\n",
    "        self.args = args\n",
    "        self.kwargs = kwargs\n",
    "    \n",
    "    @staticmethod\n",
    "    def __mse(y_true, y_pred):\n",
    "        return 2 * (y_true - y_pred)\n",
    "    \n",
    "    @staticmethod\n",
    "    def __exp(y_true, y_pred):\n",
    "        return y_true * np.exp(-y_pred * y_true)\n",
    "    \n",
    "    @staticmethod\n",
    "    def __log(y_true, y_pred):\n",
    "        return y_true / (1 + np.exp(y_pred * y_true))\n",
    "    \n",
    "    def fit(self, X, y, base_model, init_model=None):\n",
    "        \"\"\"\n",
    "        X -- объекты для обучения:\n",
    "        y -- таргеты для обучения\n",
    "        base_model -- класс базовых моделей, например sklearn.tree.DecisionTreeRegressor\n",
    "        init_model -- класс для первой модели, если None то берем константу (только для посл задания)\n",
    "        \"\"\"\n",
    "        if self.loss == 'mse':\n",
    "            self.step_f = self.__mse\n",
    "        elif self.loss == 'exponential':\n",
    "            self.step_f = self.__exp\n",
    "        elif self.loss == 'log':\n",
    "            self.step_f = self.__log\n",
    "            \n",
    "        obj_size = np.around(self.subsample * X.shape[0]).astype(int)\n",
    "        ft_size = np.around(self.colsample * X.shape[1]).astype(int)\n",
    "        \n",
    "        if init_model is None:\n",
    "            y_pred = 0\n",
    "            self.init_model = None\n",
    "        else:\n",
    "            initial_model = init_model()\n",
    "            initial_model.fit(X, y)\n",
    "            self.init_model = initial_model\n",
    "            y_pred = self.init_model.predict(X)\n",
    "            \n",
    "        self.models = []\n",
    "        self.ft = []\n",
    "        for i in range(self.n_estimators):\n",
    "            target = self.step_f(y, y_pred)\n",
    "            obj = np.random.choice(X.shape[0], size=obj_size)\n",
    "            ft = np.random.choice(X.shape[1], size=ft_size)\n",
    "            model = base_model(*self.args, **self.kwargs).fit(X[obj[:, np.newaxis], ft], target[obj])\n",
    "            y_pred += self.learning_rate * model.predict(X[:, ft])\n",
    "            self.models.append(model)\n",
    "            self.ft.append(ft)\n",
    "            \n",
    "        \n",
    "    def predict(self, X):\n",
    "        if self.init_model is None:\n",
    "            y = 0\n",
    "        else:\n",
    "            y = self.init_model.predict(X)\n",
    "        \n",
    "        for model, ft in zip(self.models, self.ft):\n",
    "            y += self.learning_rate * model.predict(X[:, ft])\n",
    "        \n",
    "        if self.loss == 'mse':\n",
    "            return np.around(y).astype(int)\n",
    "        else:\n",
    "            return np.where(y>=0, 1, -1)\n",
    "        \n"
   ]
  },
  {
   "cell_type": "code",
   "execution_count": 315,
   "metadata": {},
   "outputs": [],
   "source": [
    "my_clf = MyGradientBoostingClassifier(loss='mse', learning_rate=0.1, n_estimators=10, colsample=1, subsample=1)\n",
    "clf = GradientBoostingClassifier()"
   ]
  },
  {
   "cell_type": "code",
   "execution_count": 316,
   "metadata": {
    "tags": []
   },
   "outputs": [],
   "source": [
    "wine = load_wine()\n",
    "X_train, X_test, y_train, y_test = train_test_split(wine.data, wine.target, test_size=0.1, stratify=wine.target)"
   ]
  },
  {
   "cell_type": "code",
   "execution_count": 317,
   "metadata": {},
   "outputs": [
    {
     "name": "stdout",
     "output_type": "stream",
     "text": [
      "0.9444444444444444\n",
      "1.0\n"
     ]
    }
   ],
   "source": [
    "my_clf.fit(X_train, y_train, base_model=DecisionTreeRegressor)\n",
    "clf.fit(X_train, y_train)\n",
    "print(accuracy_score(y_pred=clf.predict(X_test), y_true=y_test))\n",
    "print(accuracy_score(y_pred=my_clf.predict(X_test), y_true=y_test))"
   ]
  },
  {
   "cell_type": "markdown",
   "metadata": {},
   "source": [
    "## Подбираем параметры (2 балла)\n",
    "\n",
    "Давайте попробуем применить Ваш бустинг для предсказаний цены домов в Калифорнии. Чтобы можно было попробовтаь разные функции потерь, переведем по порогу таргет в 2 класса: дорогие и дешевые дома."
   ]
  },
  {
   "cell_type": "markdown",
   "metadata": {},
   "source": [
    "В задании нужно\n",
    "\n",
    "1) Построить график точности в зависимости от числа итераций на валидации.\n",
    "\n",
    "2) Подобрать оптимальные параметры Вашего бустинга на валидации. \n"
   ]
  },
  {
   "cell_type": "code",
   "execution_count": 318,
   "metadata": {},
   "outputs": [],
   "source": [
    "import matplotlib.pyplot as plt\n",
    "import pandas as pd\n",
    "from tqdm import tqdm"
   ]
  },
  {
   "cell_type": "code",
   "execution_count": 319,
   "metadata": {},
   "outputs": [],
   "source": [
    "from sklearn.datasets import fetch_california_housing\n",
    "X, y = fetch_california_housing(return_X_y=True)"
   ]
  },
  {
   "cell_type": "code",
   "execution_count": 320,
   "metadata": {},
   "outputs": [
    {
     "name": "stdout",
     "output_type": "stream",
     "text": [
      "(20640, 8) (20640,)\n"
     ]
    }
   ],
   "source": [
    "# Превращаем регрессию в классификацию\n",
    "y = (y > 2.0).astype(int)\n",
    "print(X.shape, y.shape)"
   ]
  },
  {
   "cell_type": "code",
   "execution_count": 321,
   "metadata": {
    "tags": []
   },
   "outputs": [],
   "source": [
    "X_train, X_test, y_train, y_test = train_test_split(X, y, test_size=0.25, stratify=y)"
   ]
  },
  {
   "cell_type": "code",
   "execution_count": 322,
   "metadata": {},
   "outputs": [
    {
     "name": "stderr",
     "output_type": "stream",
     "text": [
      "100%|██████████████████████████████████████████████████████████████████████████████████| 11/11 [05:09<00:00, 28.14s/it]"
     ]
    },
    {
     "name": "stdout",
     "output_type": "stream",
     "text": [
      "best n: 41\n"
     ]
    },
    {
     "name": "stderr",
     "output_type": "stream",
     "text": [
      "\n"
     ]
    },
    {
     "data": {
      "image/png": "[encoded data removed]",
      "text/plain": [
       "<Figure size 1080x360 with 1 Axes>"
      ]
     },
     "metadata": {
      "needs_background": "light"
     },
     "output_type": "display_data"
    }
   ],
   "source": [
    "accuracy = []\n",
    "for n in tqdm(range(1, 202, 20)):\n",
    "    my_clf = MyGradientBoostingClassifier(loss='mse', learning_rate=0.1, n_estimators=n, colsample=1, subsample=1)\n",
    "    my_clf.fit(X_train, y_train, base_model=DecisionTreeRegressor)\n",
    "    accuracy.append(accuracy_score(y_pred=my_clf.predict(X_test), y_true=y_test))\n",
    "    \n",
    "print(f'best n: {np.argmax(accuracy)*20+1}')\n",
    "\n",
    "plt.figure(figsize=(15,5))\n",
    "plt.title(\"Зависимость точности на валидации от числа итераций MSE\")\n",
    "plt.ylabel(\"Accuracy\")\n",
    "plt.xlabel(\"Число базовых моделей\")\n",
    "\n",
    "plt.plot(range(1, 202, 20), accuracy)\n",
    "\n",
    "plt.show()"
   ]
  },
  {
   "cell_type": "code",
   "execution_count": 324,
   "metadata": {},
   "outputs": [
    {
     "name": "stderr",
     "output_type": "stream",
     "text": [
      "100%|██████████████████████████████████████████████████████████████████████████████████| 11/11 [02:51<00:00, 15.60s/it]"
     ]
    },
    {
     "name": "stdout",
     "output_type": "stream",
     "text": [
      "best n: 121\n"
     ]
    },
    {
     "name": "stderr",
     "output_type": "stream",
     "text": [
      "\n"
     ]
    },
    {
     "data": {
      "image/png": "[encoded data removed]",
      "text/plain": [
       "<Figure size 1080x360 with 1 Axes>"
      ]
     },
     "metadata": {
      "needs_background": "light"
     },
     "output_type": "display_data"
    }
   ],
   "source": [
    "accuracy = []\n",
    "for n in tqdm(range(1, 202, 20)):\n",
    "    my_clf = MyGradientBoostingClassifier(loss='exponential', learning_rate=0.1, n_estimators=n, colsample=1, subsample=1)\n",
    "    my_clf.fit(X_train, y_train*2 - 1, base_model=DecisionTreeRegressor)\n",
    "    accuracy.append(accuracy_score(y_pred=my_clf.predict(X_test), y_true=y_test*2 - 1))\n",
    "print(f'best n: {np.argmax(accuracy)*20+1}')\n",
    "\n",
    "plt.figure(figsize=(15,5))\n",
    "plt.title(\"Зависимость точности на валидации от числа итераций exponential\")\n",
    "plt.ylabel(\"Accuracy\")\n",
    "plt.xlabel(\"Число базовых моделей\")\n",
    "\n",
    "plt.plot(range(1, 202, 20), accuracy)\n",
    "\n",
    "plt.show()"
   ]
  },
  {
   "cell_type": "code",
   "execution_count": 325,
   "metadata": {},
   "outputs": [
    {
     "name": "stderr",
     "output_type": "stream",
     "text": [
      "100%|██████████████████████████████████████████████████████████████████████████████████| 11/11 [02:31<00:00, 13.78s/it]"
     ]
    },
    {
     "name": "stdout",
     "output_type": "stream",
     "text": [
      "best n: 141\n"
     ]
    },
    {
     "name": "stderr",
     "output_type": "stream",
     "text": [
      "\n"
     ]
    },
    {
     "data": {
      "image/png": "[encoded data removed]",
      "text/plain": [
       "<Figure size 1080x360 with 1 Axes>"
      ]
     },
     "metadata": {
      "needs_background": "light"
     },
     "output_type": "display_data"
    }
   ],
   "source": [
    "accuracy = []\n",
    "for n in tqdm(range(1, 202, 20)):\n",
    "    my_clf = MyGradientBoostingClassifier(loss='log', learning_rate=0.1, n_estimators=n, colsample=1, subsample=1)\n",
    "    my_clf.fit(X_train, y_train*2 - 1, base_model=DecisionTreeRegressor)\n",
    "    accuracy.append(accuracy_score(y_pred=my_clf.predict(X_test), y_true=y_test*2 - 1))\n",
    "    \n",
    "print(f'best n: {np.argmax(accuracy)*20+1}')\n",
    "\n",
    "plt.figure(figsize=(15,5))\n",
    "plt.title(\"Зависимость точности на валидации от числа итераций log\")\n",
    "plt.ylabel(\"Accuracy\")\n",
    "plt.xlabel(\"Число базовых моделей\")\n",
    "\n",
    "plt.plot(range(1, 202, 20), accuracy)\n",
    "\n",
    "plt.show()"
   ]
  },
  {
   "cell_type": "code",
   "execution_count": 326,
   "metadata": {},
   "outputs": [
    {
     "name": "stderr",
     "output_type": "stream",
     "text": [
      "100%|████████████████████████████████████████████████████████████████████████████████████| 3/3 [04:58<00:00, 99.66s/it]\n"
     ]
    }
   ],
   "source": [
    "params_grid = pd.DataFrame(columns=['loss', 'colsample', 'subsample', 'learning_rate', 'accuracy'])\n",
    "for loss in tqdm(['mse', 'exponential', 'log']):\n",
    "    for colsample in [0.4, 0.6, 0.8, 1.0]:\n",
    "        for subsample in [0.4, 0.6, 0.8, 1.0]:\n",
    "            for learning_rate in [0.1, 0.05, 0.01]:\n",
    "                my_clf = MyGradientBoostingClassifier(n_estimators=30, loss=loss, \n",
    "                                                      colsample=colsample, subsample=subsample, learning_rate=learning_rate)\n",
    "                if loss=='mse':\n",
    "                    my_clf.fit(X_train, y_train, base_model=DecisionTreeRegressor)\n",
    "                    y_pred = my_clf.predict(X_test)\n",
    "                    acc = accuracy_score(y_pred, y_test)\n",
    "                else:\n",
    "                    my_clf.fit(X_train, y_train*2-1, base_model=DecisionTreeRegressor)\n",
    "                    y_pred = my_clf.predict(X_test)\n",
    "                    acc = accuracy_score(y_pred, y_test*2-1)\n",
    "                \n",
    "                result = pd.DataFrame({'loss': [loss], 'colsample': [colsample], \n",
    "                                        'subsample': [subsample], 'learning_rate': [learning_rate], 'accuracy':[acc]}) \n",
    "                params_grid = pd.concat([params_grid, result],  ignore_index=True)"
   ]
  },
  {
   "cell_type": "code",
   "execution_count": 327,
   "metadata": {},
   "outputs": [
    {
     "data": {
      "text/html": [
       "<div>\n",
       "<style scoped>\n",
       "    .dataframe tbody tr th:only-of-type {\n",
       "        vertical-align: middle;\n",
       "    }\n",
       "\n",
       "    .dataframe tbody tr th {\n",
       "        vertical-align: top;\n",
       "    }\n",
       "\n",
       "    .dataframe thead th {\n",
       "        text-align: right;\n",
       "    }\n",
       "</style>\n",
       "<table border=\"1\" class=\"dataframe\">\n",
       "  <thead>\n",
       "    <tr style=\"text-align: right;\">\n",
       "      <th></th>\n",
       "      <th>loss</th>\n",
       "      <th>colsample</th>\n",
       "      <th>subsample</th>\n",
       "      <th>learning_rate</th>\n",
       "      <th>accuracy</th>\n",
       "    </tr>\n",
       "  </thead>\n",
       "  <tbody>\n",
       "    <tr>\n",
       "      <th>135</th>\n",
       "      <td>log</td>\n",
       "      <td>1.0</td>\n",
       "      <td>0.6</td>\n",
       "      <td>0.1</td>\n",
       "      <td>0.895736</td>\n",
       "    </tr>\n",
       "  </tbody>\n",
       "</table>\n",
       "</div>"
      ],
      "text/plain": [
       "    loss colsample subsample learning_rate  accuracy\n",
       "135  log       1.0       0.6           0.1  0.895736"
      ]
     },
     "execution_count": 327,
     "metadata": {},
     "output_type": "execute_result"
    }
   ],
   "source": [
    "params_grid[params_grid['accuracy'] == params_grid['accuracy'].max()]"
   ]
  },
  {
   "cell_type": "markdown",
   "metadata": {},
   "source": [
    "## BooBag BagBoo (1 балл)\n",
    "\n"
   ]
  },
  {
   "cell_type": "markdown",
   "metadata": {},
   "source": [
    "Попробуем объединить бустинг и бэгинг. Давайте\n",
    "\n",
    "1) в качестве базовой модели брать не дерево решений, а случайный лес (из sklearn)\n",
    "\n",
    "2) обучать N бустингов на бустрапированной выборке, а затем предикт усреднять"
   ]
  },
  {
   "cell_type": "markdown",
   "metadata": {},
   "source": [
    "Попробуйте обе этих стратегии на данных из прошлого задания. Получилось ли улучшить качество? Почему?"
   ]
  },
  {
   "cell_type": "code",
   "execution_count": 328,
   "metadata": {},
   "outputs": [],
   "source": [
    "from sklearn.ensemble import RandomForestRegressor"
   ]
  },
  {
   "cell_type": "markdown",
   "metadata": {
    "jupyter": {
     "outputs_hidden": true
    }
   },
   "source": [
    "##### BooBag"
   ]
  },
  {
   "cell_type": "code",
   "execution_count": 329,
   "metadata": {},
   "outputs": [
    {
     "name": "stdout",
     "output_type": "stream",
     "text": [
      "0.8868217054263566\n"
     ]
    }
   ],
   "source": [
    "my_clf = MyGradientBoostingClassifier(loss='log', learning_rate=0.1, colsample=1.0, subsample=0.6, n_estimators=30)\n",
    "my_clf.fit(X_train, y_train * 2 - 1, base_model=RandomForestRegressor)\n",
    "print(accuracy_score(y_pred=my_clf.predict(X_test), y_true=y_test * 2 - 1))"
   ]
  },
  {
   "cell_type": "markdown",
   "metadata": {
    "jupyter": {
     "outputs_hidden": true
    }
   },
   "source": [
    "#### BagBoo"
   ]
  },
  {
   "cell_type": "code",
   "execution_count": 330,
   "metadata": {},
   "outputs": [],
   "source": [
    "N = 10\n",
    "models = []\n",
    "for i in range(N):\n",
    "    idx = np.random.randint(0, X_train.shape[0], X_train.shape[0])\n",
    "    my_clf = MyGradientBoostingClassifier(loss='log', learning_rate=0.1, colsample=1.0, subsample=0.6, n_estimators=30)\n",
    "    my_clf.fit(X_train[idx, :], (y_train * 2 - 1)[idx], base_model=DecisionTreeRegressor)\n",
    "    models.append(my_clf)"
   ]
  },
  {
   "cell_type": "code",
   "execution_count": 331,
   "metadata": {},
   "outputs": [
    {
     "name": "stdout",
     "output_type": "stream",
     "text": [
      "0.888953488372093\n"
     ]
    }
   ],
   "source": [
    "y_pred = np.zeros(X_test.shape[0])\n",
    "for model in models:\n",
    "    y_pred += model.predict(X_test)\n",
    "    \n",
    "y_pred = np.where(y_pred >= 0, 1, -1)\n",
    "print(accuracy_score(y_pred, y_test * 2 - 1))"
   ]
  },
  {
   "cell_type": "markdown",
   "metadata": {},
   "source": [
    "## Умная инициализация (1 балл)\n",
    "\n",
    "Попробуйте брать в качестве инициализации бустинга не константу, а какой-то алгоритм и уже от его предикта стартовать итерации бустинга. Попробуйте разные модели из sklearn: линейные модели, рандом форест, svm..\n",
    "\n",
    "Получилось ли улучшить качество? Почему?\n",
    "\n"
   ]
  },
  {
   "cell_type": "code",
   "execution_count": 309,
   "metadata": {},
   "outputs": [],
   "source": [
    "from sklearn.linear_model import LinearRegression\n",
    "from sklearn.svm import SVR"
   ]
  },
  {
   "cell_type": "code",
   "execution_count": 333,
   "metadata": {
    "tags": []
   },
   "outputs": [
    {
     "name": "stdout",
     "output_type": "stream",
     "text": [
      "Accuracy для SVR: 0.8428294573643411.\n",
      "Accuracy для LinearRegression: 0.8891472868217054.\n",
      "Accuracy для RandomForestRegressor: 0.887015503875969.\n"
     ]
    }
   ],
   "source": [
    "for init_model in [SVR, LinearRegression, RandomForestRegressor]:\n",
    "    my_clf = MyGradientBoostingClassifier(loss='log', learning_rate=0.1, colsample=1.0, subsample=0.6, n_estimators=30)\n",
    "    my_clf.fit(X_train, (y_train * 2 - 1), base_model=DecisionTreeRegressor, init_model=init_model)\n",
    "    \n",
    "    print(f'Accuracy для {init_model.__name__}: {accuracy_score(my_clf.predict(X_test), y_test * 2 - 1)}.')"
   ]
  },
  {
   "cell_type": "code",
   "execution_count": null,
   "metadata": {
    "collapsed": true,
    "jupyter": {
     "outputs_hidden": true
    }
   },
   "outputs": [],
   "source": []
  },
  {
   "cell_type": "markdown",
   "metadata": {},
   "source": [
    "## Фидбек (бесценно)"
   ]
  },
  {
   "cell_type": "markdown",
   "metadata": {},
   "source": [
    "* Какие аспекты обучения  ансамблей Вам показались непонятными? Какое место стоит дополнительно объяснить?"
   ]
  },
  {
   "cell_type": "markdown",
   "metadata": {},
   "source": [
    "### Ваш ответ здесь"
   ]
  },
  {
   "cell_type": "markdown",
   "metadata": {},
   "source": [
    "* Здесь Вы можете оставить отзыв о этой домашней работе или о всем курсе."
   ]
  },
  {
   "cell_type": "markdown",
   "metadata": {},
   "source": [
    "### ВАШ ОТЗЫВ ЗДЕСЬ\n",
    "\n"
   ]
  },
  {
   "cell_type": "code",
   "execution_count": null,
   "metadata": {
    "collapsed": true,
    "jupyter": {
     "outputs_hidden": true
    }
   },
   "outputs": [],
   "source": []
  },
  {
   "cell_type": "code",
   "execution_count": null,
   "metadata": {
    "collapsed": true,
    "jupyter": {
     "outputs_hidden": true
    }
   },
   "outputs": [],
   "source": []
  }
 ],
 "metadata": {
  "anaconda-cloud": {},
  "kernelspec": {
   "display_name": "Python 3 (ipykernel)",
   "language": "python",
   "name": "python3"
  },
  "language_info": {
   "codemirror_mode": {
    "name": "ipython",
    "version": 3
   },
   "file_extension": ".py",
   "mimetype": "text/x-python",
   "name": "python",
   "nbconvert_exporter": "python",
   "pygments_lexer": "ipython3",
   "version": "3.10.5"
  }
 },
 "nbformat": 4,
 "nbformat_minor": 4
}
